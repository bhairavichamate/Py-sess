{
 "cells": [
  {
   "cell_type": "markdown",
   "id": "66516eed",
   "metadata": {},
   "source": [
    "Tuple Write Up"
   ]
  },
  {
   "cell_type": "markdown",
   "id": "b44f9d30",
   "metadata": {},
   "source": [
    "Tuple are used to store multiple values in single variable.\n",
    "\n",
    "Tuple is one of 4 buit-in data typea in python used to store collections of data, the order 3 are list, set,and Dictionary, all with different qualities and usage.\n",
    "m\n",
    "A tuple is a collection which is ordered and unchangeable.\n",
    "\n",
    "Tuple are written with round brackets."
   ]
  },
  {
   "cell_type": "code",
   "execution_count": 1,
   "id": "77eed60e",
   "metadata": {},
   "outputs": [
    {
     "name": "stdout",
     "output_type": "stream",
     "text": [
      "('mango', 'banana', 'cherry')\n"
     ]
    }
   ],
   "source": [
    "# Create a tuple\n",
    "\n",
    "a=('mango','banana','cherry')\n",
    "print(a)"
   ]
  },
  {
   "cell_type": "code",
   "execution_count": null,
   "id": "60683c0b",
   "metadata": {},
   "outputs": [],
   "source": [
    "#abcde"
   ]
  },
  {
   "cell_type": "markdown",
   "id": "2e2582b5",
   "metadata": {},
   "source": [
    "$Types:$"
   ]
  },
  {
   "cell_type": "markdown",
   "id": "029884b6",
   "metadata": {},
   "source": [
    "* Tuple items-Data types:\n",
    "    \n",
    "Tuples items can be of any data types"
   ]
  },
  {
   "cell_type": "code",
   "execution_count": 9,
   "id": "72625750",
   "metadata": {},
   "outputs": [
    {
     "name": "stdout",
     "output_type": "stream",
     "text": [
      "<class 'tuple'>\n"
     ]
    }
   ],
   "source": [
    "tuple1=('apple','cherry',9,3,True,False)\n",
    "print(type(tuple1))\n",
    " "
   ]
  },
  {
   "cell_type": "markdown",
   "id": "841493a0",
   "metadata": {},
   "source": [
    "$len:$"
   ]
  },
  {
   "cell_type": "code",
   "execution_count": 5,
   "id": "4806dbda",
   "metadata": {},
   "outputs": [
    {
     "data": {
      "text/plain": [
       "6"
      ]
     },
     "execution_count": 5,
     "metadata": {},
     "output_type": "execute_result"
    }
   ],
   "source": [
    "len(tuple1)"
   ]
  },
  {
   "cell_type": "markdown",
   "id": "6cd41616",
   "metadata": {},
   "source": [
    "$Max:$"
   ]
  },
  {
   "cell_type": "code",
   "execution_count": 10,
   "id": "d1b847fb",
   "metadata": {},
   "outputs": [
    {
     "name": "stdout",
     "output_type": "stream",
     "text": [
      "56.7\n"
     ]
    }
   ],
   "source": [
    "tuple1=(34,True,40,56.7)\n",
    "print(max(tuple1))"
   ]
  },
  {
   "cell_type": "markdown",
   "id": "e0f58866",
   "metadata": {},
   "source": [
    "$Min:$"
   ]
  },
  {
   "cell_type": "code",
   "execution_count": 11,
   "id": "9daf2402",
   "metadata": {},
   "outputs": [
    {
     "name": "stdout",
     "output_type": "stream",
     "text": [
      "True\n"
     ]
    }
   ],
   "source": [
    "print(min(tuple1))"
   ]
  },
  {
   "cell_type": "markdown",
   "id": "5ab3dbed",
   "metadata": {},
   "source": [
    "$ In-operator$"
   ]
  },
  {
   "cell_type": "code",
   "execution_count": 15,
   "id": "a8059447",
   "metadata": {},
   "outputs": [
    {
     "name": "stdout",
     "output_type": "stream",
     "text": [
      "False\n"
     ]
    }
   ],
   "source": [
    "tuple1=(1,2,3,4)\n",
    "print(5 in tuple1)"
   ]
  },
  {
   "cell_type": "code",
   "execution_count": 16,
   "id": "097efcaa",
   "metadata": {},
   "outputs": [
    {
     "name": "stdout",
     "output_type": "stream",
     "text": [
      "True\n"
     ]
    }
   ],
   "source": [
    "tuple1 = (1, 2, 3, 4)\n",
    "print(2 in tuple1)\n"
   ]
  },
  {
   "cell_type": "code",
   "execution_count": 22,
   "id": "fef344dd",
   "metadata": {},
   "outputs": [
    {
     "data": {
      "text/plain": [
       "['__add__',\n",
       " '__class__',\n",
       " '__class_getitem__',\n",
       " '__contains__',\n",
       " '__delattr__',\n",
       " '__dir__',\n",
       " '__doc__',\n",
       " '__eq__',\n",
       " '__format__',\n",
       " '__ge__',\n",
       " '__getattribute__',\n",
       " '__getitem__',\n",
       " '__getnewargs__',\n",
       " '__gt__',\n",
       " '__hash__',\n",
       " '__init__',\n",
       " '__init_subclass__',\n",
       " '__iter__',\n",
       " '__le__',\n",
       " '__len__',\n",
       " '__lt__',\n",
       " '__mul__',\n",
       " '__ne__',\n",
       " '__new__',\n",
       " '__reduce__',\n",
       " '__reduce_ex__',\n",
       " '__repr__',\n",
       " '__rmul__',\n",
       " '__setattr__',\n",
       " '__sizeof__',\n",
       " '__str__',\n",
       " '__subclasshook__',\n",
       " 'count',\n",
       " 'index']"
      ]
     },
     "execution_count": 22,
     "metadata": {},
     "output_type": "execute_result"
    }
   ],
   "source": [
    "dir(tuple)"
   ]
  },
  {
   "cell_type": "markdown",
   "id": "7f299270",
   "metadata": {},
   "source": [
    "$index$"
   ]
  },
  {
   "cell_type": "code",
   "execution_count": 19,
   "id": "d0af5d80",
   "metadata": {},
   "outputs": [
    {
     "name": "stdout",
     "output_type": "stream",
     "text": [
      "23.4\n"
     ]
    }
   ],
   "source": [
    "# Print the second item in the tuple:\n",
    "\n",
    "a=(1,\"mango0\",23.4,\"cherry\")\n",
    "print(a[2])"
   ]
  },
  {
   "cell_type": "code",
   "execution_count": 23,
   "id": "8445b284",
   "metadata": {},
   "outputs": [
    {
     "data": {
      "text/plain": [
       "3"
      ]
     },
     "execution_count": 23,
     "metadata": {},
     "output_type": "execute_result"
    }
   ],
   "source": [
    "b=(10,20,30,400,500)\n",
    "b.index(400)"
   ]
  },
  {
   "cell_type": "markdown",
   "id": "aaff497c",
   "metadata": {},
   "source": [
    "$Slice$"
   ]
  },
  {
   "cell_type": "code",
   "execution_count": 20,
   "id": "406d71b3",
   "metadata": {},
   "outputs": [
    {
     "name": "stdout",
     "output_type": "stream",
     "text": [
      "(2, 3.5, 'apple', 8)\n"
     ]
    }
   ],
   "source": [
    "my_tuple=(1,2,3.5,\"apple\",8,9)\n",
    "slice_tuple=my_tuple[1:5]\n",
    "print(slice_tuple)"
   ]
  },
  {
   "cell_type": "markdown",
   "id": "00a97bc3",
   "metadata": {},
   "source": [
    "$Count$"
   ]
  },
  {
   "cell_type": "code",
   "execution_count": 27,
   "id": "d30455f6",
   "metadata": {},
   "outputs": [
    {
     "data": {
      "text/plain": [
       "1"
      ]
     },
     "execution_count": 27,
     "metadata": {},
     "output_type": "execute_result"
    }
   ],
   "source": [
    "my_tuple.count(3.5)"
   ]
  },
  {
   "cell_type": "markdown",
   "id": "319561e2",
   "metadata": {},
   "source": [
    "append(), insert(), remove(), pop(), reverse(), sort(),copy(), extend()\n",
    "this all functions are not present in tuple."
   ]
  },
  {
   "cell_type": "markdown",
   "id": "4caef28b",
   "metadata": {},
   "source": [
    "Note: By using del operator we can't delet value of tuple object \n",
    "      By using indexing and slicing but we can delete etire object"
   ]
  },
  {
   "cell_type": "markdown",
   "id": "eb078c74",
   "metadata": {},
   "source": [
    "my_tuple=(1,2,3.5,\"apple\",8,9)\n",
    "del my_tuple[8]"
   ]
  },
  {
   "cell_type": "markdown",
   "id": "64f97591",
   "metadata": {},
   "source": [
    "$Sort$"
   ]
  },
  {
   "cell_type": "markdown",
   "id": "3728a183",
   "metadata": {},
   "source": [
    "sorted() built-in function can be used to sort any iterable, including tuples.\n",
    "\n",
    "The sorted() function returns a new list containing the sorted elements of the iterable. The original tuple remains unchanged.\n",
    "\n",
    "Syntax: list obj=sorted(tuple object)"
   ]
  },
  {
   "cell_type": "code",
   "execution_count": 30,
   "id": "7d0436b8",
   "metadata": {},
   "outputs": [
    {
     "name": "stdout",
     "output_type": "stream",
     "text": [
      "(1, 2, 3, 4, 56, 80) <class 'tuple'>\n"
     ]
    }
   ],
   "source": [
    "tuple1=(1,2,3,4,56,80)\n",
    "print(tuple1,type(tuple1))"
   ]
  },
  {
   "cell_type": "code",
   "execution_count": 31,
   "id": "4ea3a6e6",
   "metadata": {},
   "outputs": [
    {
     "name": "stdout",
     "output_type": "stream",
     "text": [
      "[1, 2, 3, 4, 56, 80] <class 'list'>\n"
     ]
    }
   ],
   "source": [
    "b=sorted(tuple1)\n",
    "print(b,type(b))"
   ]
  },
  {
   "cell_type": "markdown",
   "id": "e9a635bf",
   "metadata": {},
   "source": [
    "Loop in Tuple"
   ]
  },
  {
   "cell_type": "code",
   "execution_count": 33,
   "id": "58d56c6f",
   "metadata": {},
   "outputs": [
    {
     "name": "stdout",
     "output_type": "stream",
     "text": [
      "10\n",
      "20\n",
      "30\n",
      "apple\n"
     ]
    }
   ],
   "source": [
    "# for loop\n",
    "\n",
    "t1=(10,20,30,\"apple\")\n",
    "for i in t1:\n",
    "    print(i)"
   ]
  },
  {
   "cell_type": "code",
   "execution_count": 34,
   "id": "a887771c",
   "metadata": {},
   "outputs": [
    {
     "name": "stdout",
     "output_type": "stream",
     "text": [
      "10\n",
      "20\n",
      "30\n",
      "apple\n"
     ]
    }
   ],
   "source": [
    "for i in range(len(t1)):\n",
    "    print(t1[i])"
   ]
  },
  {
   "cell_type": "code",
   "execution_count": 36,
   "id": "5eeb0e40",
   "metadata": {},
   "outputs": [
    {
     "name": "stdout",
     "output_type": "stream",
     "text": [
      "apple\n",
      "2\n",
      "4\n",
      "5\n",
      "cherry\n"
     ]
    }
   ],
   "source": [
    "# While loop\n",
    "\n",
    "t1=('apple',2,4,5,'cherry')\n",
    "i=0\n",
    "while i<len(t1):\n",
    "    print(t1[i])\n",
    "    i+=1"
   ]
  },
  {
   "cell_type": "code",
   "execution_count": null,
   "id": "6d35ed6f",
   "metadata": {},
   "outputs": [],
   "source": []
  }
 ],
 "metadata": {
  "kernelspec": {
   "display_name": "Python 3 (ipykernel)",
   "language": "python",
   "name": "python3"
  },
  "language_info": {
   "codemirror_mode": {
    "name": "ipython",
    "version": 3
   },
   "file_extension": ".py",
   "mimetype": "text/x-python",
   "name": "python",
   "nbconvert_exporter": "python",
   "pygments_lexer": "ipython3",
   "version": "3.9.12"
  }
 },
 "nbformat": 4,
 "nbformat_minor": 5
}
